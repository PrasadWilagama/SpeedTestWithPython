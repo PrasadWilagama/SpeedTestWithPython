{
  "nbformat": 4,
  "nbformat_minor": 0,
  "metadata": {
    "colab": {
      "provenance": [],
      "authorship_tag": "ABX9TyP0hpbwUnGGsiGazMX50wAi",
      "include_colab_link": true
    },
    "kernelspec": {
      "name": "python3",
      "display_name": "Python 3"
    },
    "language_info": {
      "name": "python"
    }
  },
  "cells": [
    {
      "cell_type": "markdown",
      "metadata": {
        "id": "view-in-github",
        "colab_type": "text"
      },
      "source": [
        "<a href=\"https://colab.research.google.com/github/PrasadWilagama/SpeedTestWithPython/blob/main/SpeedTestWithPython.ipynb\" target=\"_parent\"><img src=\"https://colab.research.google.com/assets/colab-badge.svg\" alt=\"Open In Colab\"/></a>"
      ]
    },
    {
      "cell_type": "code",
      "execution_count": 1,
      "metadata": {
        "colab": {
          "base_uri": "https://localhost:8080/"
        },
        "id": "QWDHzYOWZXAW",
        "outputId": "f4bb1a0c-0544-44dd-e94a-bf842127d5e5"
      },
      "outputs": [
        {
          "output_type": "stream",
          "name": "stdout",
          "text": [
            "Collecting speedtest-cli\n",
            "  Downloading speedtest_cli-2.1.3-py2.py3-none-any.whl (23 kB)\n",
            "Installing collected packages: speedtest-cli\n",
            "Successfully installed speedtest-cli-2.1.3\n"
          ]
        }
      ],
      "source": [
        "pip install speedtest-cli"
      ]
    },
    {
      "cell_type": "code",
      "source": [
        "import speedtest"
      ],
      "metadata": {
        "id": "nbEgoHdRZl_K"
      },
      "execution_count": 4,
      "outputs": []
    },
    {
      "cell_type": "code",
      "source": [
        "s=speedtest.Speedtest()"
      ],
      "metadata": {
        "id": "wx_TFOfGZvbp"
      },
      "execution_count": 5,
      "outputs": []
    },
    {
      "cell_type": "code",
      "source": [
        "downloadSpeed = s.download()/1048576\n",
        "uploadSpeed = s.upload() / 1048576\n",
        "pingResult = round(s.results.ping)"
      ],
      "metadata": {
        "id": "AGxNrBGDZ-ry"
      },
      "execution_count": 7,
      "outputs": []
    },
    {
      "cell_type": "code",
      "source": [
        "print(f\"Download Speed: {downloadSpeed:2f} Mbps\")\n",
        "print(f\"Upload Speed: {uploadSpeed:2f} Mbps\")\n",
        "print(f\"Ping: {pingResult:2f} ms\")"
      ],
      "metadata": {
        "colab": {
          "base_uri": "https://localhost:8080/"
        },
        "id": "hQRobDOSahGS",
        "outputId": "594a3773-e23b-4247-9367-bd47ad2e64d1"
      },
      "execution_count": 12,
      "outputs": [
        {
          "output_type": "stream",
          "name": "stdout",
          "text": [
            "Download Speed: 1071.492552 Mbps\n",
            "Upload Speed: 431.693247 Mbps\n",
            "Ping: 28.000000 ms\n"
          ]
        }
      ]
    }
  ]
}